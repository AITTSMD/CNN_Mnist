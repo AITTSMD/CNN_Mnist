{
 "cells": [
  {
   "cell_type": "code",
   "execution_count": 16,
   "metadata": {
    "collapsed": true
   },
   "outputs": [],
   "source": [
    "#coding:utf-8\n",
    "from classifiers.cnn import *\n",
    "from datareader.data_utils import *\n",
    "from layers.layers import *\n",
    "from layers.layer_utils import *\n",
    "from solver.solver import *\n",
    "from time import *\n",
    "import cPickle\n",
    "import matplotlib.pyplot as plt\n",
    "%matplotlib inline"
   ]
  },
  {
   "cell_type": "code",
   "execution_count": 5,
   "metadata": {
    "collapsed": false
   },
   "outputs": [
    {
     "name": "stdout",
     "output_type": "stream",
     "text": [
      "(59000, 1, 28, 28)\n",
      "(59000,)\n",
      "(1000, 1, 28, 28)\n",
      "(1000,)\n"
     ]
    }
   ],
   "source": [
    "#样本数据\n",
    "data = get_MNIST_data()\n",
    "#搭建模型\n",
    "num_cp =4\n",
    "num_hid =2\n",
    "num_pool = 2 \n",
    "num_filters = [16,16,32,32]\n",
    "num_hids = [128,128]\n",
    "filter_size = [3,3,3,3]\n",
    "conv_param = [{} for i in xrange(num_cp)]\n",
    "pool_param = [{} for i in xrange(num_pool)]\n",
    "for i in range(num_cp):\n",
    "    conv_param[i]['stride'] = 1\n",
    "    conv_param[i]['pad'] = (filter_size[i] - 1)/2\n",
    "for i in range(num_pool):\n",
    "    pool_param[i]['pool_height'] = 2\n",
    "    pool_param[i]['pool_width'] = 2\n",
    "    pool_param[i]['stride'] = 2   \n",
    "\n",
    "MyModel = MultiLaterConvNet(input_dim=(1, 28, 28),\n",
    "                            num_filters=num_filters, \n",
    "                            num_hids=num_hids, \n",
    "                            filter_size=filter_size, \n",
    "                            num_classes=10, \n",
    "                            weight_scale=1e-1, \n",
    "                            reg=0.05, \n",
    "                            conv_params=conv_param, \n",
    "                            pool_params=pool_param, \n",
    "                            dtype=np.float32, \n",
    "                            use_batchnorm=True)\n",
    "#num_train = 100\n",
    "input_data = {\n",
    "    'X_train': data['X_train'],\n",
    "    'y_train': data['y_train'],\n",
    "    'X_val': data['X_val'],\n",
    "    'y_val': data['y_val'],\n",
    "}\n",
    "print input_data['X_train'].shape\n",
    "print input_data['y_train'].shape\n",
    "print input_data['X_val'].shape\n",
    "print input_data['y_val'].shape\n",
    "solver = Solver(MyModel, input_data,\n",
    "                num_epochs=15, batch_size=128,\n",
    "                update_rule='sgd_momentum',\n",
    "                optim_config={\n",
    "                    'learning_rate': 1e-1,\n",
    "                    },\n",
    "                lr_decay = 0.5,\n",
    "                verbose=True, \n",
    "                print_every=50)"
   ]
  },
  {
   "cell_type": "code",
   "execution_count": 7,
   "metadata": {
    "collapsed": false,
    "scrolled": true
   },
   "outputs": [
    {
     "name": "stdout",
     "output_type": "stream",
     "text": [
      "train11\n",
      "(Iteration 1 / 9200) loss: 0.849482\n",
      "(Epoch 0 / 20) train acc: 0.854000; val_acc: 0.887000\n",
      "(Iteration 51 / 9200) loss: 0.618701\n",
      "(Iteration 101 / 9200) loss: 0.686107\n",
      "(Iteration 151 / 9200) loss: 0.626637\n",
      "(Iteration 201 / 9200) loss: 0.795159\n",
      "(Iteration 251 / 9200) loss: 0.645529\n",
      "(Iteration 301 / 9200) loss: 0.748392\n",
      "(Iteration 351 / 9200) loss: 0.697815\n",
      "(Iteration 401 / 9200) loss: 0.657185\n",
      "(Iteration 451 / 9200) loss: 0.617493\n",
      "(Epoch 1 / 20) train acc: 0.659000; val_acc: 0.679000\n",
      "(Iteration 501 / 9200) loss: 0.500686\n",
      "(Iteration 551 / 9200) loss: 0.381232\n",
      "(Iteration 601 / 9200) loss: 0.363826\n",
      "(Iteration 651 / 9200) loss: 0.385318\n",
      "(Iteration 701 / 9200) loss: 0.435770\n",
      "(Iteration 751 / 9200) loss: 0.416379\n",
      "(Iteration 801 / 9200) loss: 0.413717\n",
      "(Iteration 851 / 9200) loss: 0.427671\n",
      "(Iteration 901 / 9200) loss: 0.527451\n",
      "(Epoch 2 / 20) train acc: 0.950000; val_acc: 0.935000\n",
      "(Iteration 951 / 9200) loss: 0.330313\n",
      "(Iteration 1001 / 9200) loss: 0.304184\n",
      "(Iteration 1051 / 9200) loss: 0.259112\n",
      "(Iteration 1101 / 9200) loss: 0.276371\n",
      "(Iteration 1151 / 9200) loss: 0.260201\n",
      "(Iteration 1201 / 9200) loss: 0.223854\n",
      "(Iteration 1251 / 9200) loss: 0.405042\n",
      "(Iteration 1301 / 9200) loss: 0.270953\n",
      "(Iteration 1351 / 9200) loss: 0.231706\n",
      "(Epoch 3 / 20) train acc: 0.938000; val_acc: 0.930000\n",
      "(Iteration 1401 / 9200) loss: 0.242038\n",
      "(Iteration 1451 / 9200) loss: 0.165347\n",
      "(Iteration 1501 / 9200) loss: 0.226155\n",
      "(Iteration 1551 / 9200) loss: 0.184277\n",
      "(Iteration 1601 / 9200) loss: 0.214604\n",
      "(Iteration 1651 / 9200) loss: 0.212104\n",
      "(Iteration 1701 / 9200) loss: 0.266708\n",
      "(Iteration 1751 / 9200) loss: 0.226839\n",
      "(Iteration 1801 / 9200) loss: 0.174003\n",
      "(Epoch 4 / 20) train acc: 0.983000; val_acc: 0.973000\n",
      "(Iteration 1851 / 9200) loss: 0.176766\n",
      "(Iteration 1901 / 9200) loss: 0.192317\n",
      "(Iteration 1951 / 9200) loss: 0.187209\n",
      "(Iteration 2001 / 9200) loss: 0.137543\n",
      "(Iteration 2051 / 9200) loss: 0.155494\n",
      "(Iteration 2101 / 9200) loss: 0.148265\n",
      "(Iteration 2151 / 9200) loss: 0.126055\n",
      "(Iteration 2201 / 9200) loss: 0.154678\n",
      "(Iteration 2251 / 9200) loss: 0.169356\n",
      "(Epoch 5 / 20) train acc: 0.988000; val_acc: 0.985000\n",
      "(Iteration 2301 / 9200) loss: 0.163016\n",
      "(Iteration 2351 / 9200) loss: 0.139803\n",
      "(Iteration 2401 / 9200) loss: 0.141896\n",
      "(Iteration 2451 / 9200) loss: 0.099823\n",
      "(Iteration 2501 / 9200) loss: 0.171784\n",
      "(Iteration 2551 / 9200) loss: 0.120862\n",
      "(Iteration 2601 / 9200) loss: 0.145796\n",
      "(Iteration 2651 / 9200) loss: 0.109298\n",
      "(Iteration 2701 / 9200) loss: 0.159123\n",
      "(Iteration 2751 / 9200) loss: 0.115797\n",
      "(Epoch 6 / 20) train acc: 0.986000; val_acc: 0.988000\n",
      "(Iteration 2801 / 9200) loss: 0.104643\n",
      "(Iteration 2851 / 9200) loss: 0.098088\n",
      "(Iteration 2901 / 9200) loss: 0.100709\n",
      "(Iteration 2951 / 9200) loss: 0.089075\n",
      "(Iteration 3001 / 9200) loss: 0.105356\n",
      "(Iteration 3051 / 9200) loss: 0.085419\n",
      "(Iteration 3101 / 9200) loss: 0.087890\n",
      "(Iteration 3151 / 9200) loss: 0.096838\n",
      "(Iteration 3201 / 9200) loss: 0.086338\n",
      "(Epoch 7 / 20) train acc: 0.991000; val_acc: 0.989000\n",
      "(Iteration 3251 / 9200) loss: 0.101123\n",
      "(Iteration 3301 / 9200) loss: 0.114690\n",
      "(Iteration 3351 / 9200) loss: 0.088809\n",
      "(Iteration 3401 / 9200) loss: 0.104549\n",
      "(Iteration 3451 / 9200) loss: 0.086502\n",
      "(Iteration 3501 / 9200) loss: 0.096376\n",
      "(Iteration 3551 / 9200) loss: 0.088161\n",
      "(Iteration 3601 / 9200) loss: 0.098386\n",
      "(Iteration 3651 / 9200) loss: 0.082880\n",
      "(Epoch 8 / 20) train acc: 0.999000; val_acc: 0.994000\n",
      "(Iteration 3701 / 9200) loss: 0.084050\n",
      "(Iteration 3751 / 9200) loss: 0.077492\n",
      "(Iteration 3801 / 9200) loss: 0.108408\n",
      "(Iteration 3851 / 9200) loss: 0.084253\n",
      "(Iteration 3901 / 9200) loss: 0.084314\n",
      "(Iteration 3951 / 9200) loss: 0.080819\n",
      "(Iteration 4001 / 9200) loss: 0.081049\n",
      "(Iteration 4051 / 9200) loss: 0.072455\n",
      "(Iteration 4101 / 9200) loss: 0.077906\n",
      "(Epoch 9 / 20) train acc: 1.000000; val_acc: 0.993000\n",
      "(Iteration 4151 / 9200) loss: 0.094920\n",
      "(Iteration 4201 / 9200) loss: 0.072519\n",
      "(Iteration 4251 / 9200) loss: 0.076352\n",
      "(Iteration 4301 / 9200) loss: 0.074016\n",
      "(Iteration 4351 / 9200) loss: 0.090638\n",
      "(Iteration 4401 / 9200) loss: 0.076669\n",
      "(Iteration 4451 / 9200) loss: 0.086974\n",
      "(Iteration 4501 / 9200) loss: 0.079856\n",
      "(Iteration 4551 / 9200) loss: 0.085800\n",
      "(Epoch 10 / 20) train acc: 0.998000; val_acc: 0.993000\n",
      "(Iteration 4601 / 9200) loss: 0.078790\n",
      "(Iteration 4651 / 9200) loss: 0.078904\n",
      "(Iteration 4701 / 9200) loss: 0.078659\n",
      "(Iteration 4751 / 9200) loss: 0.074713\n",
      "(Iteration 4801 / 9200) loss: 0.076957\n",
      "(Iteration 4851 / 9200) loss: 0.086228\n",
      "(Iteration 4901 / 9200) loss: 0.076015\n",
      "(Iteration 4951 / 9200) loss: 0.070930\n",
      "(Iteration 5001 / 9200) loss: 0.079338\n",
      "(Iteration 5051 / 9200) loss: 0.068919\n",
      "(Epoch 11 / 20) train acc: 0.999000; val_acc: 0.992000\n",
      "(Iteration 5101 / 9200) loss: 0.080145\n",
      "(Iteration 5151 / 9200) loss: 0.073905\n",
      "(Iteration 5201 / 9200) loss: 0.068317\n",
      "(Iteration 5251 / 9200) loss: 0.065885\n",
      "(Iteration 5301 / 9200) loss: 0.077532\n",
      "(Iteration 5351 / 9200) loss: 0.114070\n",
      "(Iteration 5401 / 9200) loss: 0.071767\n",
      "(Iteration 5451 / 9200) loss: 0.081137\n",
      "(Iteration 5501 / 9200) loss: 0.070946\n",
      "(Epoch 12 / 20) train acc: 0.999000; val_acc: 0.993000\n",
      "(Iteration 5551 / 9200) loss: 0.068700\n",
      "(Iteration 5601 / 9200) loss: 0.076103\n",
      "(Iteration 5651 / 9200) loss: 0.069439\n",
      "(Iteration 5701 / 9200) loss: 0.080725\n",
      "(Iteration 5751 / 9200) loss: 0.073293\n",
      "(Iteration 5801 / 9200) loss: 0.072748\n",
      "(Iteration 5851 / 9200) loss: 0.073207\n",
      "(Iteration 5901 / 9200) loss: 0.069921\n",
      "(Iteration 5951 / 9200) loss: 0.070821\n",
      "(Epoch 13 / 20) train acc: 0.998000; val_acc: 0.992000\n",
      "(Iteration 6001 / 9200) loss: 0.083065\n",
      "(Iteration 6051 / 9200) loss: 0.073514\n",
      "(Iteration 6101 / 9200) loss: 0.082136\n",
      "(Iteration 6151 / 9200) loss: 0.068328\n",
      "(Iteration 6201 / 9200) loss: 0.072638\n",
      "(Iteration 6251 / 9200) loss: 0.072705\n",
      "(Iteration 6301 / 9200) loss: 0.076651\n",
      "(Iteration 6351 / 9200) loss: 0.072027\n",
      "(Iteration 6401 / 9200) loss: 0.074892\n",
      "(Epoch 14 / 20) train acc: 1.000000; val_acc: 0.993000\n",
      "(Iteration 6451 / 9200) loss: 0.085423\n",
      "(Iteration 6501 / 9200) loss: 0.074224\n",
      "(Iteration 6551 / 9200) loss: 0.076136\n",
      "(Iteration 6601 / 9200) loss: 0.074060\n",
      "(Iteration 6651 / 9200) loss: 0.082725\n",
      "(Iteration 6701 / 9200) loss: 0.074572\n",
      "(Iteration 6751 / 9200) loss: 0.074036\n",
      "(Iteration 6801 / 9200) loss: 0.073074\n",
      "(Iteration 6851 / 9200) loss: 0.068321\n",
      "(Epoch 15 / 20) train acc: 0.999000; val_acc: 0.993000\n",
      "(Iteration 6901 / 9200) loss: 0.074287\n",
      "(Iteration 6951 / 9200) loss: 0.070999\n",
      "(Iteration 7001 / 9200) loss: 0.072963\n",
      "(Iteration 7051 / 9200) loss: 0.086955\n",
      "(Iteration 7101 / 9200) loss: 0.075630\n",
      "(Iteration 7151 / 9200) loss: 0.078684\n",
      "(Iteration 7201 / 9200) loss: 0.077063\n",
      "(Iteration 7251 / 9200) loss: 0.069705\n",
      "(Iteration 7301 / 9200) loss: 0.101077\n",
      "(Iteration 7351 / 9200) loss: 0.075558\n",
      "(Epoch 16 / 20) train acc: 0.998000; val_acc: 0.993000\n",
      "(Iteration 7401 / 9200) loss: 0.069765\n",
      "(Iteration 7451 / 9200) loss: 0.072378\n",
      "(Iteration 7501 / 9200) loss: 0.070864\n",
      "(Iteration 7551 / 9200) loss: 0.070535\n",
      "(Iteration 7601 / 9200) loss: 0.073986\n",
      "(Iteration 7651 / 9200) loss: 0.069015\n",
      "(Iteration 7701 / 9200) loss: 0.071163\n",
      "(Iteration 7751 / 9200) loss: 0.067844\n",
      "(Iteration 7801 / 9200) loss: 0.072967\n",
      "(Epoch 17 / 20) train acc: 1.000000; val_acc: 0.993000\n",
      "(Iteration 7851 / 9200) loss: 0.086213\n",
      "(Iteration 7901 / 9200) loss: 0.072300\n",
      "(Iteration 7951 / 9200) loss: 0.074800\n",
      "(Iteration 8001 / 9200) loss: 0.080206\n",
      "(Iteration 8051 / 9200) loss: 0.074181\n",
      "(Iteration 8101 / 9200) loss: 0.067019\n",
      "(Iteration 8151 / 9200) loss: 0.080051\n",
      "(Iteration 8201 / 9200) loss: 0.075744\n",
      "(Iteration 8251 / 9200) loss: 0.071173\n",
      "(Epoch 18 / 20) train acc: 1.000000; val_acc: 0.993000\n",
      "(Iteration 8301 / 9200) loss: 0.077568\n",
      "(Iteration 8351 / 9200) loss: 0.073187\n",
      "(Iteration 8401 / 9200) loss: 0.071198\n",
      "(Iteration 8451 / 9200) loss: 0.068202\n",
      "(Iteration 8501 / 9200) loss: 0.073269\n",
      "(Iteration 8551 / 9200) loss: 0.073140\n",
      "(Iteration 8601 / 9200) loss: 0.131960\n",
      "(Iteration 8651 / 9200) loss: 0.074669\n",
      "(Iteration 8701 / 9200) loss: 0.080419\n",
      "(Epoch 19 / 20) train acc: 0.999000; val_acc: 0.993000\n",
      "(Iteration 8751 / 9200) loss: 0.073078\n",
      "(Iteration 8801 / 9200) loss: 0.071817\n",
      "(Iteration 8851 / 9200) loss: 0.067741\n",
      "(Iteration 8901 / 9200) loss: 0.073983\n",
      "(Iteration 8951 / 9200) loss: 0.068580\n",
      "(Iteration 9001 / 9200) loss: 0.099835\n",
      "(Iteration 9051 / 9200) loss: 0.072362\n",
      "(Iteration 9101 / 9200) loss: 0.077337\n",
      "(Iteration 9151 / 9200) loss: 0.071207\n",
      "(Epoch 20 / 20) train acc: 1.000000; val_acc: 0.993000\n"
     ]
    }
   ],
   "source": [
    "solver.train()"
   ]
  },
  {
   "cell_type": "code",
   "execution_count": 8,
   "metadata": {
    "collapsed": false
   },
   "outputs": [
    {
     "name": "stdout",
     "output_type": "stream",
     "text": [
      "done\n"
     ]
    }
   ],
   "source": [
    "solver.Save()"
   ]
  },
  {
   "cell_type": "code",
   "execution_count": 14,
   "metadata": {
    "collapsed": true
   },
   "outputs": [],
   "source": [
    "def check_accuracy(X, y, model, num_samples=None, batch_size=100):\n",
    "    N = X.shape[0]\n",
    "    if num_samples is not None and N > num_samples:\n",
    "        mask = np.random.choice(N, num_samples)\n",
    "        N = num_samples\n",
    "        X = X[mask]\n",
    "        y = y[mask]\n",
    "\n",
    "    #batch的个数\n",
    "    num_batches = N / batch_size\n",
    "    if N % batch_size != 0:\n",
    "        num_batches += 1\n",
    "    y_pred = []\n",
    "    #计算每个batch预测值\n",
    "    for i in xrange(num_batches):\n",
    "        start = i * batch_size\n",
    "        end = (i + 1) * batch_size\n",
    "        scores = model.loss(X[start:end])\n",
    "        y_pred.append(np.argmax(scores, axis=1))\n",
    "    y_pred = np.hstack(y_pred)\n",
    "    acc = np.mean(y_pred == y)\n",
    "    return acc"
   ]
  },
  {
   "cell_type": "code",
   "execution_count": 15,
   "metadata": {
    "collapsed": false
   },
   "outputs": [
    {
     "name": "stdout",
     "output_type": "stream",
     "text": [
      "0.9734\n"
     ]
    }
   ],
   "source": [
    "print check_accuracy(data['X_test'],data['y_test'],MyModel)"
   ]
  },
  {
   "cell_type": "code",
   "execution_count": 23,
   "metadata": {
    "collapsed": false
   },
   "outputs": [
    {
     "data": {
      "image/png": "[encoded data removed]",
      "text/plain": [
       "<matplotlib.figure.Figure at 0x7fd2355ef610>"
      ]
     },
     "metadata": {},
     "output_type": "display_data"
    },
    {
     "data": {
      "text/plain": [
       "<matplotlib.figure.Figure at 0x7fd2355d99d0>"
      ]
     },
     "metadata": {},
     "output_type": "display_data"
    }
   ],
   "source": [
    "plt.subplot(1, 1, 1)\n",
    "plt.ylim(0,1.05)\n",
    "plt.plot(solver.loss_history, '-b')\n",
    "plt.xlabel('iteration')\n",
    "plt.ylabel('train loss')\n",
    "plt.show()\n",
    "plt.savefig('/home/cjt/chen_obj/tupu/train_loss.png')"
   ]
  },
  {
   "cell_type": "code",
   "execution_count": 25,
   "metadata": {
    "collapsed": false
   },
   "outputs": [
    {
     "data": {
      "image/png": "[encoded data removed]",
      "text/plain": [
       "<matplotlib.figure.Figure at 0x7fd235513650>"
      ]
     },
     "metadata": {},
     "output_type": "display_data"
    }
   ],
   "source": [
    "plt.subplot(1, 1, 1)\n",
    "plt.plot(solver.train_acc_history, '-o')\n",
    "plt.plot(solver.val_acc_history, '-o')\n",
    "plt.legend(['train', 'val'], loc='lower left')\n",
    "#plt.legend(loc='lower left',fontsize='large')\n",
    "plt.xlabel('epoch')\n",
    "plt.ylabel('accuracy')\n",
    "plt.show()"
   ]
  },
  {
   "cell_type": "code",
   "execution_count": null,
   "metadata": {
    "collapsed": true
   },
   "outputs": [],
   "source": []
  }
 ],
 "metadata": {
  "kernelspec": {
   "display_name": "Python 2",
   "language": "python",
   "name": "python2"
  },
  "language_info": {
   "codemirror_mode": {
    "name": "ipython",
    "version": 2
   },
   "file_extension": ".py",
   "mimetype": "text/x-python",
   "name": "python",
   "nbconvert_exporter": "python",
   "pygments_lexer": "ipython2",
   "version": "2.7.12"
  }
 },
 "nbformat": 4,
 "nbformat_minor": 1
}
